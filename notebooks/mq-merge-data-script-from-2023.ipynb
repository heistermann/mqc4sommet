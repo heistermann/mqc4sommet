{
 "cells": [
  {
   "cell_type": "markdown",
   "metadata": {},
   "source": [
    "## Settings"
   ]
  },
  {
   "cell_type": "code",
   "execution_count": 1,
   "metadata": {},
   "outputs": [],
   "source": [
    "import glob\n",
    "import os\n",
    "import pandas as pd\n",
    "import numpy as np\n",
    "import shutil\n",
    "from pathlib import Path\n",
    "import sys\n",
    "import datetime as dt\n",
    "import matplotlib.pyplot as plt\n",
    "import cosmicsense as cs"
   ]
  },
  {
   "cell_type": "code",
   "execution_count": 2,
   "metadata": {},
   "outputs": [],
   "source": [
    "import warnings\n",
    "warnings.filterwarnings(\"ignore\")"
   ]
  },
  {
   "cell_type": "code",
   "execution_count": 3,
   "metadata": {},
   "outputs": [],
   "source": [
    "sddir = \"/home/maik/b2drop/cosmicsense/inbox/marquardt/timeseries/crns/sd\"\n",
    "remotedir = \"/home/maik/b2drop/cosmicsense/inbox/marquardt/timeseries/crns/remote\"\n",
    "#remotetrgdir = \"/media/x/cosmicsense/data/marquardt/crns_merged/remote\"\n",
    "remotetrgdir = \"/home/maik/b2drop/cosmicsense/inbox/marquardt/timeseries/crns/remote/merged-from-2023\"\n",
    "#sdtrgdir = \"/media/x/cosmicsense/data/marquardt/crns_merged/sd\"\n",
    "sdtrgdir = \"/media/x/cosmicsense/data/marquardt/crns_merged/sd\"\n",
    "#bothtrgdir = \"/media/x/cosmicsense/data/marquardt/crns_merged/both\"\n",
    "bothtrgdir = \"/home/maik/b2drop/cosmicsense/inbox/marquardt/timeseries/crns/merged\"\n",
    "#remotefilesreport = \"/media/x/cosmicsense/data/marquardt/crns_merged/remote_files_report2.csv\"\n",
    "remotefilesreport = \"/home/maik/b2drop/cosmicsense/inbox/marquardt/timeseries/crns/remote/merged-from-2023/remote_files_merge_report.csv\"\n",
    "#sdfilesreport = \"/media/x/cosmicsense/data/marquardt/crns_from_sd/sd_files_report2.csv\"\n",
    "sdfilesreport = \"/media/x/cosmicsense/data/marquardt/crns_from_sd/sd_files_report.csv\"\n",
    "tmpfile = \"tmpfile.txt\"\n",
    "#ids = [1, 2, 4, 21, 22, 26, 27, 28]\n",
    "ids = [1, 4, 11, 21, 22, 26, 27, 33, 34, 35]\n",
    "styxids = [12,31,36,38]\n",
    "finappids = [32]\n",
    "canbids = [2]"
   ]
  },
  {
   "cell_type": "code",
   "execution_count": 4,
   "metadata": {},
   "outputs": [],
   "source": [
    "crns = {\n",
    "      1: {\"remotepattern\": \"up1_Data*.001*.txt\",\n",
    "          \"remoteblacklist\": [],\n",
    "          \"sdpattern\": \"*.001\",\n",
    "          \"sdblacklist\": []\n",
    "         },\n",
    "\n",
    "#       2: {\"remotepattern\": \"up2_Data*.002*.txt\",\n",
    "#           \"remoteblacklist\": [],\n",
    "#           \"sdpattern\": \"*.002\",\n",
    "#           \"sdblacklist\": []\n",
    "#          },\n",
    "\n",
    "      4: {\"remotepattern\": \"up4_Data*.004*.txt\",\n",
    "          \"remoteblacklist\": [],\n",
    "          \"sdpattern\": \"*.004\",\n",
    "          \"sdblacklist\": []\n",
    "         },\n",
    "    \n",
    "      11: {\"remotepattern\": \"c-4_Data_*.lc4_*.txt\",\n",
    "          \"remoteblacklist\": [],\n",
    "          \"sdpattern\": \"*.lc4\",\n",
    "          \"sdblacklist\": []\n",
    "         },\n",
    "\n",
    "     21: {\"remotepattern\": \"CRSProbe_Data*.021*.txt\",\n",
    "          \"remoteblacklist\": [],\n",
    "           \"sdpattern\": \"*.021\",\n",
    "          \"sdblacklist\": []\n",
    "         },\n",
    "\n",
    "     22: {\"remotepattern\": \"CRSProbe_Data*.022*.txt\",\n",
    "          \"remoteblacklist\": [],\n",
    "          \"sdpattern\": \"*.022\",\n",
    "          \"sdblacklist\": []\n",
    "         },\n",
    "\n",
    "     26: {\"remotepattern\": \"up26_Data*.026*.txt\",\n",
    "          \"remoteblacklist\": [],\n",
    "          \"sdpattern\": \"*.026\",\n",
    "          \"sdblacklist\": []\n",
    "         },\n",
    "\n",
    "     27: {\"remotepattern\": \"up27_Data*.027*.txt\",\n",
    "          \"remoteblacklist\": [],\n",
    "          \"sdpattern\": \"*.027\",\n",
    "          \"sdblacklist\": [\"2005201211.027\", \"2005201218.027\"]\n",
    "         },\n",
    "\n",
    "     28: {\"remotepattern\": \"sonde28_Data_*.028*\",\n",
    "          \"remoteblacklist\": [],\n",
    "          \"sdpattern\": \"*.028\",\n",
    "          \"sdblacklist\": []\n",
    "         },\n",
    "\n",
    "     33: {\"remotepattern\": \"mq_33_Data_*.txt\",\n",
    "          \"remoteblacklist\": [],\n",
    "          \"sdpattern\": \"*.033\",\n",
    "          \"sdblacklist\": []\n",
    "         },\n",
    "\n",
    "     34: {\"remotepattern\": \"mq_34_Data_*.txt\",\n",
    "          \"remoteblacklist\": [],\n",
    "          \"sdpattern\": \"*.034\",\n",
    "          \"sdblacklist\": [\"2209291111.034\"]\n",
    "         },\n",
    "\n",
    "     35: {\"remotepattern\": \"mq_35_Data_*.txt\",\n",
    "          \"remoteblacklist\": [],\n",
    "          \"sdpattern\": \"*.035\",\n",
    "          \"sdblacklist\": []\n",
    "         }\n",
    "\n",
    "}"
   ]
  },
  {
   "cell_type": "markdown",
   "metadata": {},
   "source": [
    "## Read remote data"
   ]
  },
  {
   "cell_type": "code",
   "execution_count": 5,
   "metadata": {},
   "outputs": [],
   "source": [
    "# We have written down all the expected setups in this csv file\n",
    "setup = pd.read_csv(\"/media/x/cosmicsense/git/cosmicsense-notebooks/notebooks/mq/mq_sensor_setups_from_2023.csv\", sep=\"\\t\")\n",
    "setup[\"names2\"] = [eval(setup.loc[i,\"names\"]) for i in range(len(setup))]"
   ]
  },
  {
   "cell_type": "code",
   "execution_count": 6,
   "metadata": {},
   "outputs": [
    {
     "name": "stdout",
     "output_type": "stream",
     "text": [
      "-------------\n",
      "Processing 1\n",
      "   Remote: found 4946 files\n",
      "-------------\n",
      "Processing 4\n",
      "   Remote: found 5213 files\n",
      "-------------\n",
      "Processing 11\n",
      "   Remote: found 3182 files\n",
      "-------------\n",
      "Processing 21\n",
      "   Remote: found 5667 files\n",
      "-------------\n",
      "Processing 22\n",
      "   Remote: found 5504 files\n",
      "-------------\n",
      "Processing 26\n",
      "   Remote: found 6081 files\n",
      "-------------\n",
      "Processing 27\n",
      "   Remote: found 1770 files\n",
      "-------------\n",
      "Processing 33\n",
      "   Remote: found 601 files\n",
      "-------------\n",
      "Processing 34\n",
      "   Remote: found 857 files\n",
      "-------------\n",
      "Processing 35\n",
      "   Remote: found 731 files\n"
     ]
    }
   ],
   "source": [
    "# Create overall structure as per sensor\n",
    "for id in ids:\n",
    "    crns[id][\"remotedata\"] = pd.DataFrame(columns = setup.loc[setup.id==id, \"names2\"].to_list()[0])\n",
    "    \n",
    "report = pd.DataFrame(columns=[\"id\", \"file\", \"rows\", \"toomany\", \"notenough\", \"corruptstamp\"])\n",
    "\n",
    "# Find all column changes FROM FILE\n",
    "for i, id in enumerate(ids):\n",
    "    print(\"-------------\")\n",
    "    print(\"Processing %d\" % id)\n",
    "\n",
    "    # REMOTE FILES\n",
    "    print(\"   Remote: \", end=\"\")\n",
    "    if id==11:\n",
    "        searchdir = os.path.join(remotedir,\"c-4\", crns[id][\"remotepattern\"])\n",
    "    else:\n",
    "        searchdir = os.path.join(remotedir,\"%d\" % id, crns[id][\"remotepattern\"])\n",
    "    remotefiles = sorted(glob.glob(searchdir, recursive=True))\n",
    "    print(\"found %d files\" % len(remotefiles))#, end=\"\")\n",
    "        \n",
    "    current_sensor = setup.loc[setup.id==id]\n",
    "    df = crns[id][\"remotedata\"]\n",
    "    \n",
    "    startrecording = False\n",
    "\n",
    "    for name in remotefiles:\n",
    "        # Check if we reached the first file from which we want to start recording data\n",
    "        if not startrecording:\n",
    "            startrecording = current_sensor.firstremote.to_list()[0] == os.path.basename(name)\n",
    "        if not startrecording:\n",
    "            continue\n",
    "#         else:\n",
    "#             print(os.path.basename(name))\n",
    "            \n",
    "        cols = current_sensor.names2.tolist()[0]\n",
    "            \n",
    "        with open(name, 'r') as fin:\n",
    "            lines = fin.readlines()\n",
    "            fin.close()\n",
    "        # We perform our own line sanity before using pandas\n",
    "        # and write it to tmpfile\n",
    "        with open(tmpfile, 'w') as fout:\n",
    "            nrows = 0\n",
    "            ntoomany = 0\n",
    "            nnotenough = 0\n",
    "            ncorruptstamp = 0\n",
    "            for line in lines:\n",
    "                line = line.strip()\n",
    "                if \"//\" in line:\n",
    "                    continue\n",
    "                if len(line) == 0:\n",
    "                    continue\n",
    "                nrows += 1\n",
    "                # remove trailing comma\n",
    "                line = line.strip(\",\")\n",
    "                nexpect = len(cols) - 1\n",
    "                if line.count(\",\") == nexpect:\n",
    "                    # Check for corrupt time stamps\n",
    "                    try:\n",
    "                        _ = dt.datetime.strptime(line.split(\",\")[1].strip(), \"%Y/%m/%d %H:%M:%S\")\n",
    "                    except ValueError:\n",
    "                        ncorruptstamp += 1\n",
    "                        continue\n",
    "                    fout.write(line+\"\\n\")\n",
    "                elif line.count(\",\") > nexpect:\n",
    "                    ntoomany += 1\n",
    "                else:\n",
    "                    nnotenough += 1\n",
    "        report.loc[len(report)] = [id, os.path.basename(name), nrows, ntoomany, nnotenough, ncorruptstamp]\n",
    "        # Read again as Pandas dataframe\n",
    "        try:\n",
    "            df1 = pd.read_csv(tmpfile, sep=\",\", comment=\"#\", header=None, names=cols)\n",
    "        except pd.errors.EmptyDataError:\n",
    "            continue\n",
    "        df = df.append(df1, ignore_index=True)\n",
    "           \n",
    "    df.datetime = pd.to_datetime(df.datetime, format=\"%Y/%m/%d %H:%M:%S\")\n",
    "    df = df.set_index(\"datetime\")\n",
    "    df.insert(loc=1, column=\"datetime\", value=df.index)\n",
    "    df = df.sort_index()\n",
    "#    df = df[df.index >= \"2019-07-25\"]\n",
    "    dupl = df.index.duplicated(keep='first')\n",
    "    if np.any(dupl):\n",
    "        print(\"Contains %d duplicates\" % len(np.where(dupl)[0]))\n",
    "        df = df[~dupl]    \n",
    "    fpath = os.path.join(remotetrgdir, \"%d_CRNS.txt\" % id )\n",
    "    df.to_csv(fpath, sep=\"\\t\", index=False, date_format=\"%Y-%m-%d %H:%M:%S\", na_rep=\"na\")\n",
    "    crns[id][\"remotedata\"] = df\n",
    "report.to_csv(remotefilesreport, sep=\";\", index=False, na_rep=\"na\")"
   ]
  },
  {
   "cell_type": "code",
   "execution_count": 7,
   "metadata": {},
   "outputs": [],
   "source": [
    "# Finapp\n",
    "columns = \"datetime\", \"counts1\", \"muons\", \"gamma\", \"nsecs1\", \"volt\", \"temp1\", \"temp_ext\", \"relhum1\", \"press1\"\n",
    "# Neutron probe\n",
    "fa_neutron = pd.read_csv(\"http://www.finapptech.com/finapp/api/getCSV_id.php?ID=34&D=1\", sep=\";\")\n",
    "fa_neutron.columns = columns\n",
    "fa_neutron = fa_neutron.drop_duplicates(subset=\"datetime\")\n",
    "fa_neutron = fa_neutron.set_index(pd.to_datetime(fa_neutron[\"datetime\"])).sort_index()\n",
    "fpath = os.path.join(remotetrgdir, \"32_CRNS.txt\")\n",
    "fa_neutron.to_csv(fpath, sep=\"\\t\", index=False, date_format=\"%Y-%m-%d %H:%M:%S\", na_rep=\"na\")"
   ]
  },
  {
   "cell_type": "markdown",
   "metadata": {},
   "source": [
    "## Collect data from SD from network share"
   ]
  },
  {
   "cell_type": "markdown",
   "metadata": {},
   "source": [
    "First, you need to mount network shares from etc/fstab via sudo mount -a. "
   ]
  },
  {
   "cell_type": "code",
   "execution_count": 8,
   "metadata": {
    "scrolled": true
   },
   "outputs": [
    {
     "data": {
      "text/plain": [
       "True"
      ]
     },
     "execution_count": 8,
     "metadata": {},
     "output_type": "execute_result"
    }
   ],
   "source": [
    "# Check\n",
    "fielddir = \"/media/geoecology-projekte/CRS/Marquardt/field\"\n",
    "os.path.exists(fielddir)"
   ]
  },
  {
   "cell_type": "code",
   "execution_count": 9,
   "metadata": {},
   "outputs": [],
   "source": [
    "copy_sd_to = \"/media/x/cosmicsense/data/marquardt/crns_from_sd\""
   ]
  },
  {
   "cell_type": "markdown",
   "metadata": {},
   "source": [
    "**Attention**: The number of found files does not correspond to the number of files in the target directory because of many duplicate files in the source directory. As far as I can see, the duplicate files have the same content, they just have been repeatedly downloaded from the logger on different dates."
   ]
  },
  {
   "cell_type": "code",
   "execution_count": 10,
   "metadata": {},
   "outputs": [
    {
     "name": "stdout",
     "output_type": "stream",
     "text": [
      "-------------\n",
      "Processing 1\n",
      "   SD: found 281 files\n",
      "-------------\n",
      "Processing 4\n",
      "   SD: found 112 files\n",
      "-------------\n",
      "Processing 11\n",
      "   SD: found 40 files\n",
      "-------------\n",
      "Processing 21\n",
      "   SD: found 207 files\n",
      "-------------\n",
      "Processing 22\n",
      "   SD: found 278 files\n",
      "-------------\n",
      "Processing 26\n",
      "   SD: found 222 files\n",
      "-------------\n",
      "Processing 27\n",
      "   SD: found 6248 files\n",
      "-------------\n",
      "Processing 33\n",
      "   SD: found 21 files\n",
      "-------------\n",
      "Processing 34\n",
      "   SD: found 65 files\n",
      "-------------\n",
      "Processing 35\n",
      "   SD: found 5 files\n"
     ]
    }
   ],
   "source": [
    "for i, id in enumerate(ids):\n",
    "    print(\"-------------\")\n",
    "    print(\"Processing %d\" % id)\n",
    "\n",
    "    # SD FILES\n",
    "    print(\"   SD: \", end=\"\")\n",
    "    searchdir = os.path.join(fielddir, \"**\", crns[id][\"sdpattern\"])\n",
    "    sdfiles = glob.glob(searchdir, recursive=True)\n",
    "    print(\"found %d files\" % len(sdfiles))#, end=\"\")\n",
    "    for sdfile in sdfiles:\n",
    "        if \"pr2\" in sdfile:\n",
    "            continue\n",
    "        dirname = os.path.dirname(sdfile)\n",
    "        fname = os.path.basename(sdfile)\n",
    "        trgdir = os.path.join(copy_sd_to, \"%d\" % id)\n",
    "        if dirname[-3:] == \"alt\":\n",
    "            try:\n",
    "                os.mkdir(os.path.join(copy_sd_to, \"%d\" % id, \"alt\"))\n",
    "            except FileExistsError:\n",
    "                pass\n",
    "            trgdir = os.path.join(trgdir, \"alt\")\n",
    "        shutil.copyfile(sdfile, os.path.join(trgdir, fname))"
   ]
  },
  {
   "cell_type": "markdown",
   "metadata": {},
   "source": [
    "## Read data from SD"
   ]
  },
  {
   "cell_type": "code",
   "execution_count": 11,
   "metadata": {},
   "outputs": [
    {
     "name": "stdout",
     "output_type": "stream",
     "text": [
      "-------------\n",
      "Processing 1\n",
      "   SD: found 127 files\n",
      "-------------\n",
      "Processing 4\n",
      "   SD: found 103 files\n",
      "-------------\n",
      "Processing 11\n",
      "   SD: found 40 files\n",
      "-------------\n",
      "Processing 21\n",
      "   SD: found 58 files\n",
      "-------------\n",
      "Processing 22\n",
      "   SD: found 94 files\n",
      "-------------\n",
      "Processing 26\n",
      "   SD: found 116 files\n",
      "-------------\n",
      "Processing 27\n",
      "   SD: found 2095 files\n",
      "/media/x/cosmicsense/data/marquardt/crns_from_sd/27/20221011.027\n",
      "/media/x/cosmicsense/data/marquardt/crns_from_sd/27/20221115.027\n",
      "/media/x/cosmicsense/data/marquardt/crns_from_sd/27/20221124.027\n",
      "/media/x/cosmicsense/data/marquardt/crns_from_sd/27/20221130.027\n",
      "/media/x/cosmicsense/data/marquardt/crns_from_sd/27/20221220.027\n",
      "/media/x/cosmicsense/data/marquardt/crns_from_sd/27/20230113.027\n",
      "/media/x/cosmicsense/data/marquardt/crns_from_sd/27/20230214.027\n",
      "/media/x/cosmicsense/data/marquardt/crns_from_sd/27/20230308.027\n",
      "/media/x/cosmicsense/data/marquardt/crns_from_sd/27/20230328.027\n",
      "/media/x/cosmicsense/data/marquardt/crns_from_sd/27/20230404.027\n",
      "/media/x/cosmicsense/data/marquardt/crns_from_sd/27/20230427.027\n",
      "/media/x/cosmicsense/data/marquardt/crns_from_sd/27/20230512.027\n",
      "-------------\n",
      "Processing 33\n",
      "   SD: found 20 files\n",
      "-------------\n",
      "Processing 34\n",
      "   SD: found 47 files\n",
      "-------------\n",
      "Processing 35\n",
      "   SD: found 5 files\n"
     ]
    }
   ],
   "source": [
    "sdreport = pd.DataFrame(columns=[\"id\", \"file\", \"rows\", \"toomany\", \"notenough\", \"nnoheader\", \"nnodecode\"])\n",
    "\n",
    "# Create overall structure as per sensor\n",
    "for id in ids:\n",
    "    crns[id][\"sddata\"] = pd.DataFrame(columns = setup.loc[setup.id==id, \"names2\"].to_list()[0])\n",
    "\n",
    "# Find all column changes FROM FILE\n",
    "for k, id in enumerate(ids):\n",
    "    print(\"-------------\")\n",
    "    print(\"Processing %d\" % id)\n",
    "\n",
    "    # SD FILES\n",
    "    print(\"   SD: \", end=\"\")\n",
    "    searchdir = os.path.join(copy_sd_to,\"%d\" % id, crns[id][\"sdpattern\"])\n",
    "    files = sorted(glob.glob(searchdir))#, recursive=True))\n",
    "    print(\"found %d files\" % len(files))#, end=\"\")\n",
    "          \n",
    "    current_sensor = setup.loc[setup.id==id]\n",
    "    df = crns[id][\"sddata\"]\n",
    "    \n",
    "    startrecording = False\n",
    "    \n",
    "    \n",
    "    for name in files:\n",
    "        # Check if we reached the first file from which we want to start recording data\n",
    "        if not startrecording:\n",
    "            startrecording = current_sensor.firstsd.to_list()[0] == os.path.basename(name)\n",
    "        if not startrecording:\n",
    "            continue\n",
    "            \n",
    "        cols = current_sensor.names2.tolist()[0]\n",
    "\n",
    "        # Check for files that are spurious, corrupt, or irrelevant\n",
    "        ym = os.path.basename(name)[0:4] \n",
    "        if (ym == \"1007\") or (ym == \"3709\"):\n",
    "            # These are old or corrupt files we're not interested in\n",
    "            continue\n",
    "        if os.path.basename(name) in crns[id][\"sdblacklist\"]:\n",
    "            continue\n",
    "        if len(os.path.basename(name).split(\".\")[0])>8 and id==27:\n",
    "            continue\n",
    "            \n",
    "#        print (os.path.basename(name))\n",
    "        with open(name, 'r') as fin:\n",
    "            try:\n",
    "                lines = fin.readlines()\n",
    "            except UnicodeDecodeError:\n",
    "                fin.close()\n",
    "                print(\"SKIP FILE: Cannot decode file %s\" % name)\n",
    "                sdreport.loc[len(sdreport)] = [id, os.path.basename(name), -99, -99, -99, -99, 1]\n",
    "                continue\n",
    "            fin.close()\n",
    "        \n",
    "        if not id==27:\n",
    "            with open(tmpfile, 'w') as fout:\n",
    "                nrows = 0\n",
    "                ntoomany = 0\n",
    "                nnotenough = 0\n",
    "                ncorruptstamp = 0\n",
    "                for line in lines:\n",
    "                    line = line.strip()\n",
    "                    if \"//\" in line:\n",
    "                        continue\n",
    "                    if len(line) == 0:\n",
    "                        continue\n",
    "                    if line[:3]==\"CRS\":\n",
    "                        continue\n",
    "                    nrows += 1\n",
    "                    # remove trailing comma\n",
    "                    line = line.strip(\",\")\n",
    "                    nexpect = len(cols) - 1\n",
    "                    if line.count(\",\") == nexpect:\n",
    "                        # Check for corrupt time stamps\n",
    "                        try:\n",
    "                            _ = dt.datetime.strptime(line.split(\",\")[1].strip(), \"%Y/%m/%d %H:%M:%S\")\n",
    "                        except ValueError:\n",
    "                            ncorruptstamp += 1\n",
    "                            continue\n",
    "                        fout.write(line+\"\\n\")\n",
    "                    elif line.count(\",\") > nexpect:\n",
    "                        ntoomany += 1\n",
    "                    else:\n",
    "                        nnotenough += 1\n",
    "                    # Read again as Pandas dataframe\n",
    "#             try:\n",
    "#                 df1 = pd.read_csv(tmpfile, sep=\",\", comment=\"#\", header=None, names=cols)\n",
    "#             except pd.errors.EmptyDataError:\n",
    "#                 continue\n",
    "        else:\n",
    "            with open(name, 'r') as fin:\n",
    "                tmp = fin.readlines()\n",
    "            if \"1.363CRNS_BF3\" in tmp[0]:\n",
    "#                 df1=pd.read_csv(name,sep=\"\\t\",comment=\"#\", header=None, \n",
    "#                                 names=[\"datetime\",\"dummy\",\"counts1\",\"nsecs1\",\n",
    "#                                        \"rec_id\",\"weissnich1\",\"weissnich2\",\"weissnich3\",\n",
    "#                                        \"weissnich4\"],\n",
    "#                                error_bad_lines=False)\n",
    "#                 print(df1.shape[1])\n",
    "                print(name)\n",
    "                with open(tmpfile, 'w') as fout:\n",
    "#                    fout.write(\"datetime,dummy,counts1,nsecs1,rec_id,weissnich1,weissnich2,weissnich3,weissnich4\\n\")\n",
    "                    for i in range(1,len(tmp)):\n",
    "                        line = tmp[i].replace(\"\\t\", \",\")\n",
    "                        if line.count(\",\") == (9 - 1):\n",
    "                            fout.write(line)\n",
    "                        else:\n",
    "                            continue\n",
    "            \n",
    "        sdreport.loc[len(sdreport)] = [id, os.path.basename(name), nrows, ntoomany, nnotenough, 0, 0]\n",
    "    \n",
    "#         # Read again as Pandas dataframe\n",
    "        try:\n",
    "            df1 = pd.read_csv(tmpfile, sep=\",\", comment=\"#\", header=None, names=cols)\n",
    "        except pd.errors.EmptyDataError:\n",
    "            continue\n",
    "        df = df.append(df1, ignore_index=True)\n",
    "           \n",
    "    df.datetime = pd.to_datetime(df.datetime, format=\"%Y/%m/%d %H:%M:%S\")\n",
    "    df = df.set_index(\"datetime\")\n",
    "    df.insert(loc=1, column=\"datetime\", value=df.index)\n",
    "    df = df.sort_index()\n",
    "#    df = df[df.index >= \"2019-07-25\"]\n",
    "    dupl = df.index.duplicated(keep='first')\n",
    "    if np.any(dupl):\n",
    "        print(\"Contains %d duplicates\" % len(np.where(dupl)[0]))\n",
    "        df = df[~dupl]    \n",
    "    fpath = os.path.join(remotetrgdir, \"%d_CRNS.txt\" % id )\n",
    "#    df.to_csv(fpath, sep=\"\\t\", index=False, date_format=\"%Y-%m-%d %H:%M:%S\", na_rep=\"na\")\n",
    "    crns[id][\"sddata\"] = df\n",
    "\n",
    "    \n",
    "sdreport.to_csv(sdfilesreport, sep=\";\", index=False, na_rep=\"na\")\n",
    "    \n",
    "#     crns[id][\"sddata\"] = df\n",
    "\n"
   ]
  },
  {
   "cell_type": "code",
   "execution_count": 12,
   "metadata": {},
   "outputs": [
    {
     "data": {
      "text/plain": [
       "(3019, 17)"
      ]
     },
     "execution_count": 12,
     "metadata": {},
     "output_type": "execute_result"
    }
   ],
   "source": [
    "df.shape"
   ]
  },
  {
   "cell_type": "markdown",
   "metadata": {},
   "source": [
    "## Merge everything"
   ]
  },
  {
   "cell_type": "code",
   "execution_count": 13,
   "metadata": {},
   "outputs": [
    {
     "name": "stdout",
     "output_type": "stream",
     "text": [
      "----\n",
      "1\n",
      "Duplicates on full dataset: 10385\n",
      "Duplicates on datetime: 10385\n",
      "----\n",
      "4\n",
      "Duplicates on full dataset: 6723\n",
      "Duplicates on datetime: 6723\n",
      "----\n",
      "11\n",
      "Duplicates on full dataset: 5654\n",
      "Duplicates on datetime: 5654\n",
      "----\n",
      "21\n",
      "Duplicates on full dataset: 8876\n",
      "Duplicates on datetime: 8876\n",
      "----\n",
      "22\n",
      "Duplicates on full dataset: 8814\n",
      "Duplicates on datetime: 9052\n",
      "----\n",
      "26\n",
      "Duplicates on full dataset: 15938\n",
      "Duplicates on datetime: 15938\n",
      "----\n",
      "27\n",
      "Duplicates on full dataset: 0\n",
      "Duplicates on datetime: 0\n",
      "----\n",
      "33\n",
      "Duplicates on full dataset: 11590\n",
      "Duplicates on datetime: 11590\n",
      "----\n",
      "34\n",
      "Duplicates on full dataset: 6557\n",
      "Duplicates on datetime: 6557\n",
      "----\n",
      "35\n",
      "Duplicates on full dataset: 2495\n",
      "Duplicates on datetime: 2495\n"
     ]
    }
   ],
   "source": [
    "for id in ids:\n",
    "    print(\"----\")\n",
    "    print(id)\n",
    "    crns[id][\"both\"] = crns[id][\"sddata\"].append(crns[id][\"remotedata\"])\n",
    "    print(\"Duplicates on full dataset: %d\" % len(np.where(crns[id][\"both\"].duplicated())[0]) )\n",
    "    print(\"Duplicates on datetime: %d\" % len(np.where(crns[id][\"both\"].duplicated(subset=\"datetime\"))[0]) )\n",
    "    crns[id][\"both\"] = crns[id][\"both\"].drop_duplicates(subset=\"datetime\").sort_index()"
   ]
  },
  {
   "cell_type": "markdown",
   "metadata": {},
   "source": [
    "## Final rearranging and renaming of columns"
   ]
  },
  {
   "cell_type": "code",
   "execution_count": 14,
   "metadata": {},
   "outputs": [],
   "source": [
    "# Sensor 1: Rename bare counter\n",
    "id = 1\n",
    "crns[id][\"both\"] = crns[id][\"both\"].rename(columns={\"counts2\":\"counts_bare\", \"nsecs2\":\"nsecs_bare\"})\n",
    "\n",
    "# Reorder datetime colummn for all sensors\n",
    "for id in ids:\n",
    "    cols = crns[id][\"both\"].columns.tolist()\n",
    "    cols.remove(\"datetime\")\n",
    "    cols.insert(0,\"datetime\")\n",
    "    crns[id][\"both\"] = crns[id][\"both\"][cols]"
   ]
  },
  {
   "cell_type": "markdown",
   "metadata": {},
   "source": [
    "## Write everything down"
   ]
  },
  {
   "cell_type": "code",
   "execution_count": 15,
   "metadata": {},
   "outputs": [],
   "source": [
    "for id in ids:\n",
    "    # Both\n",
    "    fpath = os.path.join(bothtrgdir, \"%d_CRNS.txt\" % id )\n",
    "    crns[id][\"both\"].to_csv(fpath, sep=\"\\t\", index=False, date_format=\"%Y-%m-%d %H:%M:%S\", na_rep=\"na\")\n",
    "#     # SD\n",
    "#     cols = crns[id][\"sddata\"].columns.tolist()\n",
    "#     cols.remove(\"datetime\")\n",
    "#     cols.insert(0,\"datetime\")\n",
    "#     fpath = os.path.join(sdtrgdir, \"%d_CRNS.txt\" % id )\n",
    "#     crns[id][\"sddata\"][cols].to_csv(fpath, sep=\"\\t\", index=False, date_format=\"%Y-%m-%d %H:%M:%S\", na_rep=\"na\")"
   ]
  },
  {
   "cell_type": "code",
   "execution_count": 16,
   "metadata": {},
   "outputs": [
    {
     "data": {
      "text/plain": [
       "'/home/maik/b2drop/cosmicsense/inbox/marquardt/timeseries/crns/merged/32_CRNS.txt'"
      ]
     },
     "execution_count": 16,
     "metadata": {},
     "output_type": "execute_result"
    }
   ],
   "source": [
    "shutil.copyfile(os.path.join(remotetrgdir, \"32_CRNS.txt\"),\n",
    "                os.path.join(bothtrgdir, \"32_CRNS.txt\"))"
   ]
  },
  {
   "cell_type": "markdown",
   "metadata": {},
   "source": [
    "# Sensitivity for 33"
   ]
  },
  {
   "cell_type": "code",
   "execution_count": 17,
   "metadata": {},
   "outputs": [],
   "source": [
    "searchdir = \"/home/maik/b2drop/cosmicsense/inbox/marquardt/timeseries/crns/remote/11_4/mq_11_4_Data_*.txt\"\n",
    "remotefiles = sorted(glob.glob(searchdir, recursive=True))\n",
    "for name in remotefiles:\n",
    "    # Check if we reached the first file from which we want to start recording data\n",
    "    if not startrecording:\n",
    "        startrecording = current_sensor.firstremote.to_list()[0] == os.path.basename(name)\n",
    "    if not startrecording:\n",
    "        continue\n",
    "#         else:\n",
    "#             print(os.path.basename(name))\n",
    "\n",
    "#    cols = //RecordNum,Date Time(UTC),P4_mb,P1_mb,T1_C,RH1,T_CS215,RH_CS215,Vbat,D1,N1Cts,N1ET_sec,N2Cts,N2ET_sec,N1T_C,N1RH,N2T_C,N2RH,\n",
    "    cols = \"rec_id\",\"datetime\",\"press4\",\"press1\",\"temp1\",\"relhum1\",\"temp_ext\",\"relhum_ext\",\"volt\",\"D1\",\"counts1\",\"nsecs1\",\"counts2\",\"nsecs2\",\"N1T_C\",\"N1RH\",\"N2T_C\",\"N2RH\"\n",
    "\n",
    "    with open(name, 'r') as fin:\n",
    "        lines = fin.readlines()\n",
    "        fin.close()\n",
    "    # We perform our own line sanity before using pandas\n",
    "    # and write it to tmpfile\n",
    "    with open(tmpfile, 'w') as fout:\n",
    "        nrows = 0\n",
    "        ntoomany = 0\n",
    "        nnotenough = 0\n",
    "        ncorruptstamp = 0\n",
    "        for line in lines:\n",
    "            line = line.strip()\n",
    "            if \"//\" in line:\n",
    "                continue\n",
    "            if len(line) == 0:\n",
    "                continue\n",
    "            nrows += 1\n",
    "            # remove trailing comma\n",
    "            line = line.strip(\",\")\n",
    "            nexpect = len(cols) - 1\n",
    "            if line.count(\",\") == nexpect:\n",
    "                # Check for corrupt time stamps\n",
    "                try:\n",
    "                    _ = dt.datetime.strptime(line.split(\",\")[1].strip(), \"%Y/%m/%d %H:%M:%S\")\n",
    "                except ValueError:\n",
    "                    ncorruptstamp += 1\n",
    "                    continue\n",
    "                fout.write(line+\"\\n\")\n",
    "            elif line.count(\",\") > nexpect:\n",
    "                ntoomany += 1\n",
    "            else:\n",
    "                nnotenough += 1\n",
    "    report.loc[len(report)] = [id, os.path.basename(name), nrows, ntoomany, nnotenough, ncorruptstamp]\n",
    "    # Read again as Pandas dataframe\n",
    "    try:\n",
    "        df1 = pd.read_csv(tmpfile, sep=\",\", comment=\"#\", header=None, names=cols)\n",
    "    except pd.errors.EmptyDataError:\n",
    "        continue\n",
    "    df = df1#df.append(df1, ignore_index=True)\n",
    "\n",
    "df.datetime = pd.to_datetime(df.datetime, format=\"%Y/%m/%d %H:%M:%S\")\n",
    "df = df.set_index(\"datetime\")\n",
    "df.insert(loc=1, column=\"datetime\", value=df.index)\n",
    "df = df.sort_index()\n",
    "#    df = df[df.index >= \"2019-07-25\"]\n",
    "dupl = df.index.duplicated(keep='first')\n",
    "if np.any(dupl):\n",
    "    print(\"Contains %d duplicates\" % len(np.where(dupl)[0]))\n",
    "    df = df[~dupl]    \n",
    "# fpath = os.path.join(remotetrgdir, \"%d_CRNS.txt\" % id )\n",
    "# df.to_csv(fpath, sep=\"\\t\", index=False, date_format=\"%Y-%m-%d %H:%M:%S\", na_rep=\"na\")"
   ]
  },
  {
   "cell_type": "code",
   "execution_count": 18,
   "metadata": {},
   "outputs": [],
   "source": [
    "import matplotlib.pyplot as plt\n",
    "import cosmicsense as cs"
   ]
  },
  {
   "cell_type": "code",
   "execution_count": 19,
   "metadata": {},
   "outputs": [],
   "source": [
    "cols = cols = \"rec_id\",\"datetime\",\"press4\",\"press1\",\"temp1\",\"relhum1\",\"temp_ext\",\"relhum_ext\",\"volt\",\"D1\",\"counts1\",\"nsecs1\",\"counts2\",\"nsecs2\",\"N1T_C\",\"N1RH\",\"N2T_C\",\"N2RH\",\"dummy\"\n",
    "df = pd.read_csv(\"/media/geoecology-projekte/CRS/Marquardt/field/20220926/crns/11_4/2209131134.114\", sep=\",\", header=None, skiprows=22, names=cols)\n",
    "df.datetime = pd.to_datetime(df.datetime, format=\"%Y/%m/%d %H:%M:%S\")\n",
    "df = df.set_index(\"datetime\")\n",
    "df = df[\"2022-09-19 12:00:00\":\"2022-09-26 08:00:00\"]\n",
    "df[\"cph1\"] = (df.counts1 + df.counts2) / cs.conv.s_to_h(df.nsecs1)"
   ]
  },
  {
   "cell_type": "code",
   "execution_count": 20,
   "metadata": {},
   "outputs": [],
   "source": [
    "df11 = pd.read_csv(\"/home/maik/b2drop/cosmicsense/data_publication/MqC/crns/stationary/observations/11_CRNS.txt\",\n",
    "                   sep=\"\\t\", comment=\"#\")\n",
    "df11[\"datetime\"] = pd.to_datetime(df11.datetime)\n",
    "df11 = df11.set_index(\"datetime\")\n",
    "#df11 = df11[df.index[0]:df.index[-1]]"
   ]
  },
  {
   "cell_type": "code",
   "execution_count": 21,
   "metadata": {},
   "outputs": [
    {
     "data": {
      "text/plain": [
       "<AxesSubplot:xlabel='datetime'>"
      ]
     },
     "execution_count": 21,
     "metadata": {},
     "output_type": "execute_result"
    },
    {
     "data": {
      "image/png": "[encoded data removed]",
      "text/plain": [
       "<Figure size 432x288 with 1 Axes>"
      ]
     },
     "metadata": {
      "needs_background": "light"
     },
     "output_type": "display_data"
    }
   ],
   "source": [
    "fig, ax = plt.subplots(1,1)\n",
    "df11.cph_filtered.plot(ax=ax)\n",
    "df.cph1.plot(ax=ax)\n",
    "#plt.xlim(dt.datetime(2022,9,13),dt.datetime(2022,9,27))"
   ]
  },
  {
   "cell_type": "code",
   "execution_count": 22,
   "metadata": {},
   "outputs": [
    {
     "data": {
      "text/plain": [
       "1.6548588493104712"
      ]
     },
     "execution_count": 22,
     "metadata": {},
     "output_type": "execute_result"
    }
   ],
   "source": [
    "df11[df.index[0]:df.index[-1]].cph_filtered.mean() / df.cph1.mean()"
   ]
  },
  {
   "cell_type": "code",
   "execution_count": 23,
   "metadata": {},
   "outputs": [
    {
     "data": {
      "text/plain": [
       "2.8726811287691096"
      ]
     },
     "execution_count": 23,
     "metadata": {},
     "output_type": "execute_result"
    }
   ],
   "source": [
    "4.754 / 1.6549"
   ]
  },
  {
   "cell_type": "markdown",
   "metadata": {},
   "source": [
    "# Sensitivity for 32"
   ]
  },
  {
   "cell_type": "code",
   "execution_count": 24,
   "metadata": {},
   "outputs": [
    {
     "data": {
      "text/plain": [
       "<AxesSubplot:xlabel='datetime'>"
      ]
     },
     "execution_count": 24,
     "metadata": {},
     "output_type": "execute_result"
    },
    {
     "data": {
      "image/png": "[encoded data removed]",
      "text/plain": [
       "<Figure size 432x288 with 1 Axes>"
      ]
     },
     "metadata": {
      "needs_background": "light"
     },
     "output_type": "display_data"
    }
   ],
   "source": [
    "df32 = pd.read_csv(\"/home/maik/b2drop/cosmicsense/inbox/marquardt/timeseries/crns/merged/32_CRNS.txt\",\n",
    "                   sep=\"\\t\", comment=\"#\")\n",
    "df32[\"datetime\"] = pd.to_datetime(df32.datetime)\n",
    "df32 = df32.set_index(\"datetime\")\n",
    "df32[\"cph1\"] = df32.counts1 / cs.conv.s_to_h(df32.nsecs1)\n",
    "df32.loc[df32.cph1>4000] = np.nan\n",
    "df32.loc[df32.cph1<1400] = np.nan\n",
    "df32.cph1.plot()\n",
    "#df32 = df32[df.index[0]:df.index[-1]]"
   ]
  },
  {
   "cell_type": "code",
   "execution_count": 25,
   "metadata": {},
   "outputs": [
    {
     "data": {
      "text/plain": [
       "<AxesSubplot:xlabel='datetime'>"
      ]
     },
     "execution_count": 25,
     "metadata": {},
     "output_type": "execute_result"
    },
    {
     "data": {
      "image/png": "[encoded data removed]",
      "text/plain": [
       "<Figure size 432x288 with 1 Axes>"
      ]
     },
     "metadata": {
      "needs_background": "light"
     },
     "output_type": "display_data"
    }
   ],
   "source": [
    "fig, ax = plt.subplots(1,1)\n",
    "df11.cph_filtered.plot(ax=ax)\n",
    "df32.cph1.plot(ax=ax)\n",
    "#plt.xlim(dt.datetime(2022,9,13),dt.datetime(2022,9,27))"
   ]
  },
  {
   "cell_type": "code",
   "execution_count": 26,
   "metadata": {},
   "outputs": [
    {
     "name": "stdout",
     "output_type": "stream",
     "text": [
      "3.341031385193691\n",
      "1.4229139005003373\n"
     ]
    }
   ],
   "source": [
    "tstart, tend = \"2022-09-01\", \"2022-09-15\"\n",
    "ratio_11_to_32 = df11[tstart:tend].cph_filtered.mean() / df32[tstart:tend].cph1.mean()\n",
    "print(ratio_11_to_32)\n",
    "print(4.754 / ratio_11_to_32)"
   ]
  },
  {
   "cell_type": "code",
   "execution_count": null,
   "metadata": {},
   "outputs": [],
   "source": []
  }
 ],
 "metadata": {
  "kernelspec": {
   "display_name": "Python 3 (ipykernel)",
   "language": "python",
   "name": "python3"
  },
  "language_info": {
   "codemirror_mode": {
    "name": "ipython",
    "version": 3
   },
   "file_extension": ".py",
   "mimetype": "text/x-python",
   "name": "python",
   "nbconvert_exporter": "python",
   "pygments_lexer": "ipython3",
   "version": "3.9.10"
  },
  "toc": {
   "base_numbering": 1,
   "nav_menu": {},
   "number_sections": false,
   "sideBar": true,
   "skip_h1_title": false,
   "title_cell": "Table of Contents",
   "title_sidebar": "Contents",
   "toc_cell": false,
   "toc_position": {
    "height": "calc(100% - 180px)",
    "left": "10px",
    "top": "150px",
    "width": "343.017px"
   },
   "toc_section_display": true,
   "toc_window_display": true
  }
 },
 "nbformat": 4,
 "nbformat_minor": 2
}
